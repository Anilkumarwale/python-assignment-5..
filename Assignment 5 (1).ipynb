{
 "cells": [
  {
   "cell_type": "markdown",
   "id": "853522f3",
   "metadata": {},
   "source": [
    "1.What does an empty dictionary's code look like?\n",
    "\n",
    "Answer: a = {}"
   ]
  },
  {
   "cell_type": "markdown",
   "id": "27bf0879",
   "metadata": {},
   "source": [
    "2.What is the value of a dictionary value with the key 'foo' and the value 42?\n",
    "\n",
    "Answer: dict = {'foo' : 42}, dict_values([42]).\n"
   ]
  },
  {
   "cell_type": "markdown",
   "id": "3721a6f4",
   "metadata": {},
   "source": [
    "3.What is the most significant distinction between a dictionary and a list?\n",
    "\n",
    "Answer: Dictionary involves the data like keys and values but list is a sequence order of individual elements."
   ]
  },
  {
   "cell_type": "markdown",
   "id": "5c301136",
   "metadata": {},
   "source": [
    "4.What happens if you try to access spam['foo'] if spam is {'bar': 100}?\n",
    "\n",
    "Answer: spam = {'bar': 100}\n",
    "        \n",
    "        spam['foo'] #key error "
   ]
  },
  {
   "cell_type": "markdown",
   "id": "f51f9d9c",
   "metadata": {},
   "source": [
    "5.If a dictionary is stored in spam, what is the difference between the expressions 'cat' in spam and 'cat' in spam.keys()?\n",
    "\n",
    "Answer: Just try to check whether cat is present in a dictionary as a key or not."
   ]
  },
  {
   "cell_type": "markdown",
   "id": "7e7c00c7",
   "metadata": {},
   "source": [
    "6.If a dictionary is stored in spam, what is the difference between the expressions 'cat' in spam and 'cat' in spam.values()?\n",
    "\n",
    "Answer: its check whether cat is present in a dictionary as a value or not."
   ]
  },
  {
   "cell_type": "markdown",
   "id": "77f5cccb",
   "metadata": {},
   "source": [
    "7.What is a shortcut for the following code?\n",
    "\n",
    "if 'color' not in spam:\n",
    "\n",
    "spam['color'] = 'black'\n",
    "\n",
    "Answer: spam.setdefault('colour', 'black')\n",
    "\n",
    "         'black'"
   ]
  },
  {
   "cell_type": "markdown",
   "id": "c699cf9a",
   "metadata": {},
   "source": [
    "8.How do you \"pretty print\" dictionary values using which module and function?\n",
    "\n",
    "Answer: module = pprint\n",
    "    \n",
    "        function = pprint.pprint()\n"
   ]
  },
  {
   "cell_type": "code",
   "execution_count": null,
   "id": "9bc5c7fe",
   "metadata": {},
   "outputs": [],
   "source": []
  }
 ],
 "metadata": {
  "kernelspec": {
   "display_name": "Python 3 (ipykernel)",
   "language": "python",
   "name": "python3"
  },
  "language_info": {
   "codemirror_mode": {
    "name": "ipython",
    "version": 3
   },
   "file_extension": ".py",
   "mimetype": "text/x-python",
   "name": "python",
   "nbconvert_exporter": "python",
   "pygments_lexer": "ipython3",
   "version": "3.9.7"
  }
 },
 "nbformat": 4,
 "nbformat_minor": 5
}
